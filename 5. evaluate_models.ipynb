{
 "cells": [
  {
   "cell_type": "markdown",
   "metadata": {},
   "source": [
    "### Imports"
   ]
  },
  {
   "cell_type": "code",
   "execution_count": null,
   "metadata": {},
   "outputs": [],
   "source": [
    "import pandas as pd\n",
    "import os\n",
    "from scipy import stats\n",
    "\n",
    "from delong_auc import *\n",
    "\n",
    "import gensim\n",
    "from gensim.models import Doc2Vec\n",
    "\n",
    "from sklearn.externals import joblib\n",
    "from sklearn.metrics import roc_auc_score, roc_curve\n",
    "\n",
    "from process_text import text_to_vectors\n",
    "\n",
    "import matplotlib.pyplot as plt\n",
    "%matplotlib inline"
   ]
  },
  {
   "cell_type": "markdown",
   "metadata": {},
   "source": [
    "### 1. Read files"
   ]
  },
  {
   "cell_type": "code",
   "execution_count": null,
   "metadata": {},
   "outputs": [],
   "source": [
    "predictions = pd.read_csv(\"logs/predictions.csv\", sep=\";\")"
   ]
  },
  {
   "cell_type": "markdown",
   "metadata": {},
   "source": [
    "### 2. Evaluate cross validation prediction (internal)"
   ]
  },
  {
   "cell_type": "markdown",
   "metadata": {},
   "source": [
    "Compute area under curve and standard deviation using DeLong method"
   ]
  },
  {
   "cell_type": "code",
   "execution_count": null,
   "metadata": {},
   "outputs": [],
   "source": [
    "# Create empty figure\n",
    "plt.figure(figsize=(7, 5), dpi=450)\n",
    "\n",
    "# Track values over multiple folds\n",
    "aucs = []\n",
    "auc_vars = []\n",
    "\n",
    "# Determine number of folds\n",
    "no_folds = predictions['fold_number'].nunique()\n",
    "\n",
    "# For each fold\n",
    "for i in np.arange(no_folds)+1:\n",
    "    \n",
    "    # Select subset of dataframe corresponding to fold\n",
    "    predictions_fold = predictions[predictions['fold_number'] == i]\n",
    "    \n",
    "    # Compute area under curve and variance based on DeLong method\n",
    "    auc, var = delong_roc_variance(predictions_fold['true_label'], \n",
    "                                   predictions_fold['probability'])\n",
    "\n",
    "    # Track total\n",
    "    aucs.append(auc)\n",
    "    auc_vars.append(var)\n",
    "    \n",
    "    # Compute FPR and TPR rates for plotting\n",
    "    fpr, tpr, thresholds = roc_curve(predictions_fold['true_label'], \n",
    "                                     predictions_fold['probability'])        \n",
    "    \n",
    "    # Add to plot\n",
    "    plt.plot(fpr, tpr, label=\"Fold {} (AUC={:.3f})\".format(i, auc))\n",
    "    \n",
    "# Sampling distribution of the mean \n",
    "auc_mean = np.mean(aucs)\n",
    "auc_var = np.mean(auc_vars)\n",
    "auc_ste = np.sqrt(auc_var) / np.sqrt(no_folds)\n",
    "    \n",
    "plt.plot([0, 1], [0, 1], '--')\n",
    "plt.xlim([-0.01, 1.01])\n",
    "plt.ylim([-0.01, 1.01])\n",
    "plt.title('AUROC Site x = {:.3f}'.format(auc_mean))\n",
    "plt.xlabel('False Positive Rate')\n",
    "plt.ylabel('True Positive Rate')\n",
    "plt.legend(loc=\"lower right\")    \n",
    "    \n",
    "# Compute area under curve and variance based on DeLong method\n",
    "auc_delong, var_delong = delong_roc_variance(predictions['true_label'], \n",
    "                               predictions['probability'])\n",
    "    \n",
    "print(\"Auc = {:.5f}\".format(auc_mean))\n",
    "print(\"Var = {:.5f}\".format(auc_var))    \n",
    "print(\"Ste = {:.5f}\".format(auc_ste))    \n",
    "print(\"95% CI = {}\".format(stats.norm.ppf([0.025, 0.975],loc=auc_mean, scale=auc_ste)))"
   ]
  },
  {
   "cell_type": "markdown",
   "metadata": {},
   "source": [
    "Compute binary classification statistics (True Positives, True Negatives, False Positives, False Negatives, etc). "
   ]
  },
  {
   "cell_type": "code",
   "execution_count": null,
   "metadata": {},
   "outputs": [],
   "source": [
    "# Determine a binary cutoff for a group of predictions\n",
    "def binary_cutoff(group):\n",
    "    \n",
    "    # Ratio of admissions with a positive outcome in this group\n",
    "    ratio = 1 - (sum(group['true_label']) / len(group['true_label']))\n",
    "    \n",
    "    # Determine threshold based on this ratio\n",
    "    threshold = sorted(group['probability'])[int(ratio * len(group))]\n",
    "    group['binary_prediction'] = (group['probability'] > threshold)\n",
    "    \n",
    "    # Return\n",
    "    return(group)\n",
    "\n",
    "# A binary cutoff is determined for each fold\n",
    "predictions = predictions.groupby(\"fold_number\").apply(binary_cutoff)\n",
    "\n",
    "# Show 2x2 contingency table\n",
    "pd.crosstab(predictions['true_label'], predictions['binary_prediction'])"
   ]
  },
  {
   "cell_type": "markdown",
   "metadata": {},
   "source": [
    "### Evaluate external models on internal dataset"
   ]
  },
  {
   "cell_type": "code",
   "execution_count": null,
   "metadata": {},
   "outputs": [],
   "source": [
    "have_external_model = False"
   ]
  },
  {
   "cell_type": "code",
   "execution_count": null,
   "metadata": {},
   "outputs": [],
   "source": [
    "if have_external_model:\n",
    "\n",
    "    # Read external paragraph2vec and svm models\n",
    "    p2v_model_external = Doc2Vec.load(\"models_external/paragraph2vec_model\")\n",
    "    svm_model_external = joblib.load(\"models_external/svm_model\")\n",
    "\n",
    "    # Read processed notes\n",
    "    notes = pd.read_csv(\"data/processed/notes.csv\", sep=\";\")"
   ]
  },
  {
   "cell_type": "code",
   "execution_count": null,
   "metadata": {
    "scrolled": true
   },
   "outputs": [],
   "source": [
    "if have_external_model:\n",
    "    # Obtain vectors of notes using external paragraph2vec model\n",
    "    note_vectors_external = text_to_vectors(notes, 'words_stemmed', p2v_model_external, no_reps=10)\n",
    "\n",
    "    # Predict probabilities using external classification model\n",
    "    probability_external = svm_model_external.predict_proba(note_vectors_external)[:, 1]\n",
    "\n",
    "    # Create dataframe with predictions\n",
    "    predictions_external = pd.DataFrame({'probability' : probability_external, \n",
    "                                     'true_label'  : notes['outcome'].map({0 : False, 1 : True})})\n",
    "\n",
    "    # All predictions in same 'fold'\n",
    "    predictions_external['fold_number'] = 1\n",
    "\n",
    "    # Determine binary cutoff\n",
    "    predictions_external = predictions_external.groupby(\"fold_number\").apply(binary_cutoff)\n",
    "\n",
    "    # Compute area under curve and covariance based on DeLong method\n",
    "    auc_external, auc_var_external = delong_roc_variance(predictions_external['true_label'], \n",
    "                                                 predictions_external['probability'])\n",
    "\n",
    "    print(\"External auc = {:.3f}\".format(auc_external))\n",
    "    print(\"External ste = {:.3f}\".format(np.sqrt(auc_var_external)))\n",
    "    print(\"External 95% CI = {}\".format(stats.norm.ppf([0.025, 0.975],loc=auc_external, scale=np.sqrt(auc_var_external))))\n",
    "\n",
    "    predictions_external.to_csv(\"logs/predictions_external.csv\", sep=\";\", index=False)"
   ]
  },
  {
   "cell_type": "code",
   "execution_count": null,
   "metadata": {},
   "outputs": [],
   "source": []
  }
 ],
 "metadata": {
  "kernelspec": {
   "display_name": "Python 3",
   "language": "python",
   "name": "python3"
  },
  "language_info": {
   "codemirror_mode": {
    "name": "ipython",
    "version": 3
   },
   "file_extension": ".py",
   "mimetype": "text/x-python",
   "name": "python",
   "nbconvert_exporter": "python",
   "pygments_lexer": "ipython3",
   "version": "3.6.9"
  }
 },
 "nbformat": 4,
 "nbformat_minor": 2
}
