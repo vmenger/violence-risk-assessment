{
 "cells": [
  {
   "cell_type": "code",
   "execution_count": null,
   "metadata": {
    "collapsed": true
   },
   "outputs": [],
   "source": [
    "import pandas as pd\n",
    "import os\n",
    "\n",
    "from process_text import text_to_words\n",
    "import TaggedDocumentStream\n",
    "\n",
    "import gensim\n",
    "from gensim.models import Doc2Vec"
   ]
  },
  {
   "cell_type": "markdown",
   "metadata": {},
   "source": [
    "### 1. Read clinical notes\n",
    "We use a large set of clinical notes in unprocessed form, with the following columns:\n",
    "- `text`  The text\n",
    "- `label` A label, required for training, can be arbitrary (i.e. a counter)\n",
    "\n",
    "This should be read as a Pandas dataframe, from any arbitrary source (csv, excel, database, etc). "
   ]
  },
  {
   "cell_type": "code",
   "execution_count": null,
   "metadata": {
    "collapsed": true
   },
   "outputs": [],
   "source": [
    "notes = pd.read_csv('data/source/notes_full.csv')"
   ]
  },
  {
   "cell_type": "markdown",
   "metadata": {},
   "source": [
    "### 2. Preprocess text\n",
    "We preprocess by tokenizing, removing stopwords, stemming, and removing remaining punctuation. We then write the preprocessed text to `txt` file. This allows using a Python generator object for training the model, which is more memory-efficient."
   ]
  },
  {
   "cell_type": "code",
   "execution_count": null,
   "metadata": {
    "collapsed": true
   },
   "outputs": [],
   "source": [
    "# Processed notes and labels are written to two seperate files\n",
    "notes_file_path = os.path.join('data', 'processed_notes', 'notes.txt')\n",
    "label_file_path = os.path.join('data', 'processed_notes', 'labels.txt')\n",
    "\n",
    "# Open file handles for preprocessed notes and lables\n",
    "with open(notes_file_path, 'a+') as notes_file, open(label_file_path, 'a+') as label_file:\n",
    "\n",
    "    # Iterate over records (== notes)\n",
    "    for i in notes.index:\n",
    "\n",
    "        # Extract text and label\n",
    "        text = notes.loc[i]['text']\n",
    "        label = notes.loc[i]['label']\n",
    "\n",
    "        # Convert text to words\n",
    "        words = text_to_words(text, \n",
    "                              filter_stopwords=True,\n",
    "                              stemming=True,\n",
    "                              filter_periods=True\n",
    "                             )\n",
    "\n",
    "        # Only texts with at least 2 words\n",
    "        if len(words) <= 1:\n",
    "            continue\n",
    "\n",
    "        # Append to file \n",
    "        notes_file.write(\"{}\\n\".format(' '.join(words)))\n",
    "        label_file.write(\"{}\\n\".format(label))"
   ]
  },
  {
   "cell_type": "markdown",
   "metadata": {},
   "source": [
    "### 3. Train `paragraph2vec` model\n",
    "We use a `TaggedDocumentStream` to read lines from training corpus, then train a `paragraph2vec` model (called `Doc2Vec` in the `gensim` implementation). "
   ]
  },
  {
   "cell_type": "code",
   "execution_count": null,
   "metadata": {
    "collapsed": true
   },
   "outputs": [],
   "source": [
    "# Define TaggedDocumentStream\n",
    "notes_stream = TaggedDocumentStream(note_files=[note_file], label_files=[label_file])\n",
    "\n",
    "# Train paragraph2vec model\n",
    "pragraph2vec_model = Doc2Vec(all_td_stream, \n",
    "                             epochs=20,\n",
    "                             min_count=20,\n",
    "                             dm=1,\n",
    "                             sample=1e-3,\n",
    "                             vector_size=300, \n",
    "                             window=2,\n",
    ")\n",
    "\n",
    "# Save model to disk\n",
    "pragraph2vec_model.save(\"models/paragraph2vec_model\")"
   ]
  }
 ],
 "metadata": {
  "kernelspec": {
   "display_name": "Python 3",
   "language": "python",
   "name": "python3"
  },
  "language_info": {
   "codemirror_mode": {
    "name": "ipython",
    "version": 3
   },
   "file_extension": ".py",
   "mimetype": "text/x-python",
   "name": "python",
   "nbconvert_exporter": "python",
   "pygments_lexer": "ipython3",
   "version": "3.6.5"
  }
 },
 "nbformat": 4,
 "nbformat_minor": 2
}
