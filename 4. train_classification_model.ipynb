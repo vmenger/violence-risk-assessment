{
 "cells": [
  {
   "cell_type": "markdown",
   "metadata": {},
   "source": [
    "### Imports"
   ]
  },
  {
   "cell_type": "code",
   "execution_count": null,
   "metadata": {
    "collapsed": true
   },
   "outputs": [],
   "source": [
    "import pandas as pd\n",
    "import numpy as np\n",
    "\n",
    "import scipy.stats\n",
    "\n",
    "from sklearn import svm\n",
    "from sklearn.externals import joblib\n",
    "from sklearn.model_selection import GridSearchCV, GroupKFold"
   ]
  },
  {
   "cell_type": "markdown",
   "metadata": {},
   "source": [
    "### 1. Read files"
   ]
  },
  {
   "cell_type": "code",
   "execution_count": null,
   "metadata": {
    "collapsed": true
   },
   "outputs": [],
   "source": [
    "notes = pd.read_csv(\"data/processed/notes.csv\", sep=\";\")"
   ]
  },
  {
   "cell_type": "markdown",
   "metadata": {},
   "source": [
    "Finalize $X$ (machine learning input), $y$ (target label), groups (to split different admissions of a single patient in the same fold)"
   ]
  },
  {
   "cell_type": "code",
   "execution_count": null,
   "metadata": {
    "collapsed": true
   },
   "outputs": [],
   "source": [
    "# Shuffle dataset\n",
    "notes = notes.sample(frac=1)\n",
    "\n",
    "# Note vectors are used as input (X), apply zscore normalization\n",
    "X = notes[[str(a) for a in range(300)]].values\n",
    "\n",
    "# Target label (y) is defined in the outcome variable\n",
    "y = notes['outcome'].values\n",
    "\n",
    "# groups are defined by patient identifiers\n",
    "groups = notes['patient_id'].values"
   ]
  },
  {
   "cell_type": "markdown",
   "metadata": {},
   "source": [
    "### 2. Modeling"
   ]
  },
  {
   "cell_type": "markdown",
   "metadata": {},
   "source": [
    "Define a sklearn grid estimator object that will be used multiple times to optimize models "
   ]
  },
  {
   "cell_type": "code",
   "execution_count": null,
   "metadata": {
    "collapsed": true
   },
   "outputs": [],
   "source": [
    "def get_estimator():\n",
    "\n",
    "    # Define support vector machine instance\n",
    "    svm_model = svm.SVC(kernel='rbf',\n",
    "                        class_weight='balanced',\n",
    "                        probability=True)\n",
    "\n",
    "    # Define inner split object\n",
    "    inner_split_object = GroupKFold(n_splits=no_inner_folds)\n",
    "\n",
    "    # Define grid search object\n",
    "    grid_estimator = GridSearchCV(estimator=svm_model,\n",
    "                                  param_grid = param_grid,\n",
    "                                  scoring='roc_auc',\n",
    "                                  cv=inner_split_object,\n",
    "                                  return_train_score=False,\n",
    "                                  refit=True,\n",
    "                                  verbose=0\n",
    "                                 )\n",
    "    \n",
    "    return(grid_estimator)    "
   ]
  },
  {
   "cell_type": "markdown",
   "metadata": {},
   "source": [
    "Define some settings, add logging"
   ]
  },
  {
   "cell_type": "code",
   "execution_count": null,
   "metadata": {
    "collapsed": true
   },
   "outputs": [],
   "source": [
    "log_string = \"\"\n",
    "\n",
    "def log(message):\n",
    "    global log_string \n",
    "    log_string += message + \"\\n\"\n",
    "\n",
    "# Define a parameter grid for optimizing hyperparameters\n",
    "param_grid = {'kernel' : ['rbf'],\n",
    "              'C'      : [1e-1, 1e0, 1e1],\n",
    "              'gamma'  : [1e-5, 1e-4, 1e-3, 1e-2, 1e-1, 1e0]\n",
    "             }\n",
    "\n",
    "# Define number of inner and outer folds\n",
    "no_inner_folds = 5\n",
    "no_outer_folds = 5\n",
    "\n",
    "log(\"Using search grid {}\".format(param_grid))\n",
    "log(\"Number of inner folds = {}\".format(no_inner_folds))\n",
    "log(\"Number of outer folds = {}\".format(no_outer_folds))\n",
    "log(\"===============================\")\n",
    "\n",
    "# Initialize empty dataframe that will hold predictions and outcomes, to compute statistics\n",
    "predictions = pd.DataFrame(columns=['probability', 'true_label', 'fold_number'])"
   ]
  },
  {
   "cell_type": "markdown",
   "metadata": {},
   "source": [
    "Start modeling by iterating over the outer cross validation loops, subsetting data and fitting a model based on a grid estimator. In each loop, optimal predictions are appended to the `predictions` dataframe, which will be evaluated in another notebook. "
   ]
  },
  {
   "cell_type": "code",
   "execution_count": null,
   "metadata": {
    "scrolled": true
   },
   "outputs": [],
   "source": [
    "# Define fold_counter\n",
    "fold_counter = 0\n",
    "\n",
    "# Iterate over outer folds for internal cross validation\n",
    "for train_indices, test_indices in GroupKFold(n_splits=no_outer_folds).split(X, y, groups):\n",
    "\n",
    "    # Increase fold_counter\n",
    "    fold_counter += 1\n",
    "    \n",
    "    log(\"Outer fold {}\".format(fold_counter))\n",
    "    \n",
    "    # Subset data based on folds indices\n",
    "    X_train = X[train_indices]\n",
    "    X_test = X[test_indices]\n",
    "    y_train = y[train_indices]\n",
    "    y_test = y[test_indices]\n",
    "    groups_train = groups[train_indices]\n",
    "    admission_ids = notes['admission_id'][train_indices]\n",
    "\n",
    "    # Determine number of models\n",
    "    no_models = np.prod([len(l) for _, l in param_grid.items()])\n",
    "    log(\"\\t Fitting {} models with {}-dimensional table\".format(no_models * no_inner_folds, \n",
    "                                                                X_train.shape))\n",
    "    \n",
    "    # Get estimator object\n",
    "    grid_estimator = get_estimator()\n",
    "    \n",
    "    # Fit model\n",
    "    grid_estimator.fit(X_train, y_train, groups_train)\n",
    "    \n",
    "    # Log results\n",
    "    log(\"\\t Best parameters: {}\".format(grid_estimator.best_params_))\n",
    "    log(\"\\t CV result: {:.3f}+/-{:.3f}\".format(grid_estimator.best_score_,\n",
    "                                               grid_estimator.cv_results_['std_test_score'][grid_estimator.best_index_ ]))\n",
    "    log(\"\\t Full report: {}\".format(grid_estimator.cv_results_))\n",
    "    log(\"===============================\")\n",
    "    \n",
    "    # Extract best estimator after training\n",
    "    best_model = grid_estimator.best_estimator_\n",
    "    \n",
    "    # Store predictions and true labels in a dataframe\n",
    "    df = pd.DataFrame({'probability' : best_model.predict_proba(X_test)[:, 1], \n",
    "                       'true_label' : y_test,\n",
    "                       'admission_id' : admission_ids,\n",
    "                      })\n",
    "    \n",
    "    # Add fold counter\n",
    "    df['fold_number'] = fold_counter\n",
    "    \n",
    "    # Append to the dataframe that will hold all predictions\n",
    "    predictions = pd.concat([predictions, df], axis=0)\n",
    "    \n",
    "# Reset index, recode label    \n",
    "predictions = predictions.reset_index().drop(['index'], axis=1)\n",
    "predictions['true_label'] = predictions['true_label'].map({0 : False, 1 : True})\n",
    "\n",
    "# Write predictions for evaluation\n",
    "predictions.to_csv(\"logs/predictions.csv\", \n",
    "                   sep=\";\", \n",
    "                   index=False)\n",
    "\n",
    "# Write log\n",
    "with open (\"logs/log.txt\", \"w+\") as logfile:\n",
    "    logfile.write(log_string)"
   ]
  },
  {
   "cell_type": "markdown",
   "metadata": {},
   "source": [
    "For external validation, we will also train a model on the entire dataset, using only one cross validation loop to optimize hyperparameters. "
   ]
  },
  {
   "cell_type": "code",
   "execution_count": null,
   "metadata": {},
   "outputs": [],
   "source": [
    "# Train model on entire dataset for external evaluation\n",
    "grid_estimator = get_estimator()\n",
    "grid_estimator.fit(X, y, groups)\n",
    "\n",
    "# Write model to disk\n",
    "joblib.dump(grid_estimator.best_estimator_, 'models/svm_model')"
   ]
  }
 ],
 "metadata": {
  "kernelspec": {
   "display_name": "Python 3",
   "language": "python",
   "name": "python3"
  },
  "language_info": {
   "codemirror_mode": {
    "name": "ipython",
    "version": 3
   },
   "file_extension": ".py",
   "mimetype": "text/x-python",
   "name": "python",
   "nbconvert_exporter": "python",
   "pygments_lexer": "ipython3",
   "version": "3.6.5"
  }
 },
 "nbformat": 4,
 "nbformat_minor": 2
}
