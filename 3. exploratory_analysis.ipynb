{
 "cells": [
  {
   "cell_type": "markdown",
   "metadata": {},
   "source": [
    "### Imports"
   ]
  },
  {
   "cell_type": "code",
   "execution_count": null,
   "metadata": {},
   "outputs": [],
   "source": [
    "import pandas as pd\n",
    "import numpy as np\n",
    "\n",
    "from process_text import text_to_words\n",
    "\n",
    "from sklearn.feature_extraction.text import CountVectorizer\n",
    "from sklearn.feature_selection import SelectKBest, chi2"
   ]
  },
  {
   "cell_type": "markdown",
   "metadata": {},
   "source": [
    "### 1. Read files"
   ]
  },
  {
   "cell_type": "code",
   "execution_count": null,
   "metadata": {},
   "outputs": [],
   "source": [
    "notes = pd.read_csv(\"data/processed/notes.csv\", sep=\";\")"
   ]
  },
  {
   "cell_type": "markdown",
   "metadata": {},
   "source": [
    "### 2. Exploratory analysis\n",
    "First, we convert the notes to a bag-of-words dataframe containing the 1000 most common terms, including bi-grams."
   ]
  },
  {
   "cell_type": "code",
   "execution_count": null,
   "metadata": {},
   "outputs": [],
   "source": [
    "# First preprocess the texts by converting to words\n",
    "notes['words'] = notes['text'].apply(lambda x : ' '.join(text_to_words(x)))\n",
    "\n",
    "# We then vectorize texts by counting individual terms and pairs of terms\n",
    "count_vect = CountVectorizer(ngram_range=(1,2), \n",
    "                             max_features=1000, \n",
    "                             binary=True\n",
    "                            )\n",
    "term_counts = count_vect.fit_transform(notes['words'])\n",
    "\n",
    "# Transform output into a dataframe, concatenate outcome\n",
    "terms = pd.DataFrame(term_counts.toarray(), \n",
    "                     columns=[x for x in count_vect.get_feature_names()])\n",
    "\n",
    "terms = pd.concat([notes['outcome'], terms], axis=1)"
   ]
  },
  {
   "cell_type": "markdown",
   "metadata": {},
   "source": [
    "In many resamples, we select the highest predictors of outcome according to $\\chi^{2}$, and pool this 10% over resamples. "
   ]
  },
  {
   "cell_type": "code",
   "execution_count": null,
   "metadata": {},
   "outputs": [],
   "source": [
    "# Determine best features based on Chi^2\n",
    "best_terms = []\n",
    "\n",
    "num_resamples = 100\n",
    "select_n_best_terms = 10\n",
    "\n",
    "for i in range(num_resamples):\n",
    "\n",
    "    # Sample with replacement\n",
    "    terms_sample = terms.sample(frac=1, replace=True, random_state=i)\n",
    "    \n",
    "    # Select best predictors based on chi2 value\n",
    "    kbest_selector = SelectKBest(chi2, k=select_n_best_terms)\n",
    "    kbest_selector.fit(terms_sample.drop(['outcome'], axis=1), \n",
    "                       terms_sample['outcome'])\n",
    "    \n",
    "    # Append result, without regarding order\n",
    "    best_terms.append(terms_sample.drop(['outcome'], axis=1).columns[kbest_selector.get_support()])\n",
    "    \n",
    "# Flatten list of lists\n",
    "best_terms = [item for sublist in best_terms for item in sublist]"
   ]
  },
  {
   "cell_type": "markdown",
   "metadata": {},
   "source": [
    "Compute Spearman correlation for best_n_terms"
   ]
  },
  {
   "cell_type": "code",
   "execution_count": null,
   "metadata": {},
   "outputs": [],
   "source": [
    "# Compute fractions\n",
    "fractions = (pd.Series(best_terms).value_counts()/num_resamples)"
   ]
  },
  {
   "cell_type": "code",
   "execution_count": null,
   "metadata": {},
   "outputs": [],
   "source": [
    "# Compute spearman correlations of select_n_best_terms most selected predictors\n",
    "top_n_terms = terms[list(fractions[:select_n_best_terms].index) + ['outcome']]\n",
    "correlations = top_n_terms.corr(method=\"spearman\")[['outcome']].reset_index()"
   ]
  },
  {
   "cell_type": "markdown",
   "metadata": {},
   "source": [
    "We compute the $\\chi^{2}$ value for each term in the dataset, store the result in a new dataframe and apply a Holm-Bonferroni correction"
   ]
  },
  {
   "cell_type": "code",
   "execution_count": null,
   "metadata": {},
   "outputs": [],
   "source": [
    "# Refit chi2 on entire dataset\n",
    "kbest_selector = SelectKBest(chi2, k=select_n_best_terms)\n",
    "kbest_selector.fit(terms.drop(['outcome'], 1), terms['outcome'])\n",
    "\n",
    "# Create dataframe with results for top n terms\n",
    "results = pd.DataFrame({'term' : terms.drop(['outcome'], 1).columns, \n",
    "                        'chisquared_score' : kbest_selector.scores_, \n",
    "                        'chisquared_pvalue' : kbest_selector.pvalues_})\n",
    "\n",
    "# Apply Holm-Bonferroni correction\n",
    "results = results.sort_values(['chisquared_score'], ascending=False)\n",
    "results['rank'] = np.arange(len(results)) + 1\n",
    "results['hb_factor'] = (len(results) + 1 - results['rank'])\n",
    "results['p_corr'] = results['chisquared_pvalue'] * results['hb_factor']\n",
    "\n",
    "# Determine significance\n",
    "alpha = 0.01\n",
    "results['significant'] = results['p_corr'] < alpha"
   ]
  },
  {
   "cell_type": "markdown",
   "metadata": {},
   "source": [
    "Add the generalization ratio and the Spearman correlations to the dataframe"
   ]
  },
  {
   "cell_type": "code",
   "execution_count": null,
   "metadata": {},
   "outputs": [],
   "source": [
    "# Add fraction of selected in bootstrapped feature selection\n",
    "results['generalization_ratio'] = results['term'].apply(lambda x : fractions[x] if x in fractions.keys() else 0)\n",
    "\n",
    "# Add correlations\n",
    "results = results.merge(correlations, left_on='term', right_on='index', how='left')\n",
    "\n",
    "print(\"A total number of {} variables are significant\".format(results['significant'].sum()))"
   ]
  },
  {
   "cell_type": "code",
   "execution_count": null,
   "metadata": {
    "scrolled": true
   },
   "outputs": [],
   "source": [
    "# Show results\n",
    "results.sort_values('generalization_ratio', ascending=False).head(20)"
   ]
  },
  {
   "cell_type": "code",
   "execution_count": null,
   "metadata": {},
   "outputs": [],
   "source": []
  }
 ],
 "metadata": {
  "kernelspec": {
   "display_name": "Python 3",
   "language": "python",
   "name": "python3"
  },
  "language_info": {
   "codemirror_mode": {
    "name": "ipython",
    "version": 3
   },
   "file_extension": ".py",
   "mimetype": "text/x-python",
   "name": "python",
   "nbconvert_exporter": "python",
   "pygments_lexer": "ipython3",
   "version": "3.6.9"
  }
 },
 "nbformat": 4,
 "nbformat_minor": 2
}
